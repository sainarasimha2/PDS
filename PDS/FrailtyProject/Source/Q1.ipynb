{
  "nbformat": 4,
  "nbformat_minor": 0,
  "metadata": {
    "colab": {
      "provenance": []
    },
    "kernelspec": {
      "name": "python3",
      "display_name": "Python 3"
    },
    "language_info": {
      "name": "python"
    }
  },
  "cells": [
    {
      "cell_type": "code",
      "execution_count": null,
      "metadata": {
        "id": "1krHAHG6CO6B"
      },
      "outputs": [],
      "source": []
    },
    {
      "cell_type": "code",
      "source": [
        "import pandas as pd"
      ],
      "metadata": {
        "id": "FHyUkspJCRrt"
      },
      "execution_count": 1,
      "outputs": []
    },
    {
      "cell_type": "code",
      "source": [
        "import scipy.stats as stats\n",
        "e_data = pd.read_csv(\"/content/Sai_Raw_Data1.csv\")\n",
        "\n",
        "F1 = e_data[e_data['Frailty'] == 'Y']['Weight']\n",
        "F2 = e_data[e_data['Frailty'] == 'N']['Weight']\n",
        "\n",
        "t_stat, p_value = stats.ttest_ind(F1, F2)\n",
        "\n",
        "\n",
        "print(\"t-statistic:\", t_stat)\n",
        "print(\"p-value:\", p_value)\n",
        "\n",
        "x = 0.05\n",
        "if p_value < x:\n",
        "    print(\"Between the different groups, there is a clear difference in grip strength.\")\n",
        "else:\n",
        "    print(\"Between the groups, there is no difference in grip strength.\")"
      ],
      "metadata": {
        "colab": {
          "base_uri": "https://localhost:8080/"
        },
        "id": "EssFJn7uKiOd",
        "outputId": "af7e5e69-db25-440c-fe14-19e4bb20344e"
      },
      "execution_count": 8,
      "outputs": [
        {
          "output_type": "stream",
          "name": "stdout",
          "text": [
            "t-statistic: 1.7920318220177764\n",
            "p-value: 0.11089488733773724\n",
            "Between the groups, there is no difference in grip strength.\n"
          ]
        }
      ]
    },
    {
      "cell_type": "code",
      "source": [],
      "metadata": {
        "id": "VCN88M8JKnbD"
      },
      "execution_count": null,
      "outputs": []
    }
  ]
}